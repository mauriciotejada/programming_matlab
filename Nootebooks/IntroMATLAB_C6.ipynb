{
 "cells": [
  {
   "cell_type": "markdown",
   "metadata": {},
   "source": [
    "# Introducción a la Programación en MATLAB (C6)\n",
    "\n",
    "Mauricio Tejada\n",
    "\n",
    "ILADES - Universidad Alberto Hurtado\n",
    "\n",
    "Agosto 2017"
   ]
  },
  {
   "cell_type": "markdown",
   "metadata": {},
   "source": [
    "## Contenidos\n",
    "\n",
    "- [Aplicaciones I](#6.-Aplicaciones-I)\n",
    "    - [Modelo Insumo-Producto](#6.1-Modelo-Insumo-Producto)\n",
    "    - [Equilibrio de Mercado con Dos Bienes](#6.2-Equilibrio-de-Mercado-con-Dos-Bienes)\n",
    "    - [Mínimos Cuadrados Ordinarios](#6.3-M%C3%ADnimos-Cuadrados-Ordinarios)"
   ]
  },
  {
   "cell_type": "markdown",
   "metadata": {},
   "source": [
    "## 6. Aplicaciones I"
   ]
  },
  {
   "cell_type": "markdown",
   "metadata": {},
   "source": [
    "### 6.1 Modelo Insumo-Producto \n",
    "\n",
    "*Aplicación tomada del libro \"Matemática para Economistas con Excel y Matlab\" de Alicia Bernardello y coautores*\n",
    "\n",
    "Características del modelo:\n",
    "\n",
    "- Describe relaciones interindustriales o intersectoriales.\n",
    "- Usa dichas relaciones para predecir cambios en la demanda para predecir causados por cambios en la demanda autónoma del los productos finales.\n",
    "\n",
    "Suponga una economía con tres sectores: \n",
    "\n",
    "\n",
    "| Prod/Ins |  I  |  II |  III |\n",
    "|--------------|--------|-----|------|\n",
    "|  I           |0.2  |0.6  |0     |\n",
    "|  II          |0.2  |0    |0.2   |\n",
    "|  III         |0.4  |0.2  |0.5   |\n",
    "\n",
    "- Columna 1: Por cada peso producido del producto I se usan: 0.2 pesos del mismo producto, 0.2 pesos del producto II, y 0.4 pesos del producto III.\n",
    "- La demanda de cada una de las tres industrias está compuesta de la demanda derivada de las otras industrias y la demanda autónoma:\n",
    "\n",
    "\\begin{eqnarray}\n",
    "x_1 &=& 0.2x_1+0.6x_2+d_1 \\\\ \n",
    "x_2 &=& 0.2x_1+0.2x_3+d_2 \\\\ \n",
    "x_3 &=& 0.4x_1+0.2x_2+0.5x_3+d_3 \\\\\n",
    "\\end{eqnarray}\n",
    "\n",
    "- Definamos la matriz de coeficientes técnicos como:"
   ]
  },
  {
   "cell_type": "code",
   "execution_count": 1,
   "metadata": {},
   "outputs": [
    {
     "name": "stdout",
     "output_type": "stream",
     "text": [
      "A =\n",
      "\n",
      "    0.2000    0.6000         0\n",
      "    0.2000         0    0.2000\n",
      "    0.4000    0.2000    0.5000\n"
     ]
    }
   ],
   "source": [
    "clear all;\n",
    "A = [0.2 0.6 0; 0.2 0 0.2; 0.4 0.2 0.5]"
   ]
  },
  {
   "cell_type": "markdown",
   "metadata": {},
   "source": [
    "- Si definimos los vectores $x=(x_1,x_2,x_3)'$ y $d=(d_1,d_2,d_3)'$ tenemos:\n",
    "\n",
    "$$x = Ax + d$$\n",
    "\n",
    "- Entonces:\n",
    "\n",
    "$$x=(I-A)^{-1}d$$\n",
    "\n",
    "- La matriz $I-A$ es denominada matriz de Leontief.\n",
    "- La matriz $A$ tiene todo sus autovalores en el círculo unitario y $I-A$ es no singular. Entonces $(I-A)^{-1}$ es no negativa."
   ]
  },
  {
   "cell_type": "code",
   "execution_count": 2,
   "metadata": {},
   "outputs": [
    {
     "name": "stdout",
     "output_type": "stream",
     "text": [
      "eigA =\n",
      "\n",
      "    0.7445\n",
      "    0.1432\n",
      "   -0.1877\n",
      "\n",
      "\n",
      "detL =\n",
      "\n",
      "    0.2600\n"
     ]
    }
   ],
   "source": [
    "eigA = eig(A)\n",
    "detL = det(eye(3)-A)"
   ]
  },
  {
   "cell_type": "code",
   "execution_count": 3,
   "metadata": {},
   "outputs": [
    {
     "name": "stdout",
     "output_type": "stream",
     "text": [
      "invL =\n",
      "\n",
      "    1.7692    1.1538    0.4615\n",
      "    0.6923    1.5385    0.6154\n",
      "    1.6923    1.5385    2.6154\n"
     ]
    }
   ],
   "source": [
    "invL = inv(eye(3)-A)"
   ]
  },
  {
   "cell_type": "markdown",
   "metadata": {},
   "source": [
    "- Si $d_1=100$, $d_2=50$, y $d_3=200$, las demandas sectoriales serían:"
   ]
  },
  {
   "cell_type": "code",
   "execution_count": 4,
   "metadata": {},
   "outputs": [
    {
     "name": "stdout",
     "output_type": "stream",
     "text": [
      "d =\n",
      "\n",
      "   100\n",
      "    50\n",
      "   200\n",
      "\n",
      "\n",
      "x =\n",
      "\n",
      "  326.9231\n",
      "  269.2308\n",
      "  769.2308\n"
     ]
    }
   ],
   "source": [
    "d = [100; 50; 200]\n",
    "x = invL*d"
   ]
  },
  {
   "cell_type": "markdown",
   "metadata": {},
   "source": [
    "- Nos interesa calcular el efecto de un cambio en la demanda autónoma de un producto sobre la demanda total (dadas las relaciones entre sectores).\n",
    "\n",
    "$$\\Delta x = (I-A)^{-1} \\Delta d$$"
   ]
  },
  {
   "cell_type": "markdown",
   "metadata": {},
   "source": [
    "- Suponga ahora $d'_1=110$, $d'_2=100$, y $d'_3=180$."
   ]
  },
  {
   "cell_type": "code",
   "execution_count": 5,
   "metadata": {},
   "outputs": [
    {
     "name": "stdout",
     "output_type": "stream",
     "text": [
      "Dd =\n",
      "\n",
      "    10\n",
      "    50\n",
      "   -20\n",
      "\n",
      "\n",
      "Dx =\n",
      "\n",
      "   66.1538\n",
      "   71.5385\n",
      "   41.5385\n"
     ]
    }
   ],
   "source": [
    "d2 = [110; 100; 180];\n",
    "Dd = d2-d\n",
    "Dx = invL*Dd"
   ]
  },
  {
   "cell_type": "markdown",
   "metadata": {},
   "source": [
    "### 6.2 Equilibrio de Mercado con Dos Bienes\n",
    "\n",
    "*Aplicación tomada del libro \"Matemática para Economistas con Excel y Matlab\" de Alicia Bernardello y coautores*\n",
    "\n",
    "El Modelo:\n",
    "\n",
    "- Función de Demanda del producto 1: $$Q_{d1} = 40 - 2 P_1 +  P_2$$\n",
    "- Función de Oferta del producto 1: $$Q_{o1} = -5 + 3 P_1 - P_2$$\n",
    "- Equilibrio en el mercado 1: $$Q_{d1}=Q_{o1}=Q_1$$\n",
    "- Función de Demanda del producto 2: $$Q_{d2} = 90 + P_1 - P_2$$\n",
    "- Función de Oferta del producto 2: $$Q_{o2} = -2 + 2 P_2 $$\n",
    "- Equilibrio en el mercado 2: $$Q_{d2}=Q_{o2}=Q_2$$\n",
    "\n",
    "El modelo puede ser resuelto usando el método de reemplazo para encontrar la solución al sistema de ecuaciones. Bastante tedioso. Definamos mas bien el siguiente vector: $$x = (Q_1,Q_2,P_1,P_2)'$$\n",
    "\n",
    "Definamos entonces: $$ Ax = b$$\n",
    "\n",
    "La solución del sistema de ecuaciones es entonces (si $A$ es invertible): $$x = A^{-1} \\times  b$$\n",
    "\n"
   ]
  },
  {
   "cell_type": "code",
   "execution_count": 6,
   "metadata": {},
   "outputs": [
    {
     "name": "stdout",
     "output_type": "stream",
     "text": [
      "A =\n",
      "\n",
      "     1     0     2    -1\n",
      "     1     0    -3     1\n",
      "     0     1    -1     1\n",
      "     0     1     0    -2\n",
      "\n",
      "\n",
      "b =\n",
      "\n",
      "    40\n",
      "    -5\n",
      "    90\n",
      "    -2\n",
      "\n",
      "\n",
      "dA =\n",
      "\n",
      "   -13\n"
     ]
    }
   ],
   "source": [
    "A = [1 0 2 -1;\n",
    "     1 0 -3 1;\n",
    "     0 1 -1 1;\n",
    "     0 1 0 -2]\n",
    "b = [40; -5; 90; -2]\n",
    "dA = det(A)"
   ]
  },
  {
   "cell_type": "markdown",
   "metadata": {},
   "source": [
    "Solución:"
   ]
  },
  {
   "cell_type": "code",
   "execution_count": 7,
   "metadata": {},
   "outputs": [
    {
     "name": "stdout",
     "output_type": "stream",
     "text": [
      "x =\n",
      "\n",
      "   29.7692\n",
      "   75.6923\n",
      "   24.5385\n",
      "   38.8462\n"
     ]
    }
   ],
   "source": [
    "x = A \\ b   % alternativamente x =inv(A)*b"
   ]
  },
  {
   "cell_type": "markdown",
   "metadata": {},
   "source": [
    "Entonces: $Q_1=29.7$ ,$P_1=24.5$, $Q_2=75.7$, $P_2=38.8$."
   ]
  },
  {
   "cell_type": "markdown",
   "metadata": {},
   "source": [
    "### 6.3 Mínimos Cuadrados Ordinarios\n",
    "\n",
    "Construiremos dos vectores $X_1$ y $X_2$ de $N \\times 1$ cada uno y con ello un vector $y$ de acuerdo a: \n",
    "\n",
    "$$y_i = 3 + 0.5X_{1i} + 0.9X_{2i} + \\epsilon_i$$\n",
    "\n",
    "donde $X_{1i} \\sim N(1,4)$, $X_{2i} \\sim N(2,4)$ y $\\epsilon \\sim N(0,1)$.\n",
    "\n",
    "A partir de estos datos usaremos la fórmula estándar de MCO para encontrar los coeficientes estimados. $$\\hat{\\beta} = (X'X)^{-1} X'y$$\n",
    "\n",
    "- Generando Datos:"
   ]
  },
  {
   "cell_type": "code",
   "execution_count": 8,
   "metadata": {
    "collapsed": true
   },
   "outputs": [],
   "source": [
    "N = 100;\n",
    "X1 = 1 + 2*randn(N,1);\n",
    "X2 = 2 + 2*randn(N,1);\n",
    "eps = randn(N,1);\n",
    "y  = 3 + 0.5*X1 +0.9*X2 + eps;\n",
    "\n",
    "data = [y X1 X2];\n",
    "\n",
    "dlmwrite('DatosMCO.txt',data);"
   ]
  },
  {
   "cell_type": "markdown",
   "metadata": {},
   "source": [
    "- Cargando Datos y estimado los parámetros:"
   ]
  },
  {
   "cell_type": "code",
   "execution_count": 9,
   "metadata": {},
   "outputs": [],
   "source": [
    "clear all;\n",
    "whos"
   ]
  },
  {
   "cell_type": "code",
   "execution_count": 10,
   "metadata": {},
   "outputs": [
    {
     "name": "stdout",
     "output_type": "stream",
     "text": [
      "Name           Size            Bytes  Class     Attributes\n",
      "\n",
      "  impdata      100x3              2400  double\n"
     ]
    }
   ],
   "source": [
    "impdata = importdata('DatosMCO.txt');\n",
    "whos;"
   ]
  },
  {
   "cell_type": "code",
   "execution_count": 11,
   "metadata": {},
   "outputs": [
    {
     "name": "stdout",
     "output_type": "stream",
     "text": [
      "beta =\n",
      "\n",
      "    2.9913\n",
      "    0.5640\n",
      "    0.8020\n"
     ]
    }
   ],
   "source": [
    "[N, K] = size(impdata);\n",
    "y = impdata(:,1);\n",
    "X1 = impdata(:,2);\n",
    "X2 = impdata(:,3);\n",
    "\n",
    "X = [ones(N,1) X1 X2];\n",
    "\n",
    "beta = (X'*X)\\(X'*y)   % alternativa beta = inv(X'*X)*(X'*y)"
   ]
  },
  {
   "cell_type": "markdown",
   "metadata": {},
   "source": [
    "- Graficando la predicción y los errores del modelo. "
   ]
  },
  {
   "cell_type": "code",
   "execution_count": 12,
   "metadata": {},
   "outputs": [
    {
     "data": {
      "image/png": "[encoded data removed]",
      "text/plain": [
       "<IPython.core.display.Image object>"
      ]
     },
     "metadata": {},
     "output_type": "display_data"
    }
   ],
   "source": [
    "err = y - X*beta;\n",
    "yhat = X*beta;\n",
    "\n",
    "plot([y yhat]);\n",
    "title('Ajuste')\n",
    "legend('y','yhat');"
   ]
  },
  {
   "cell_type": "code",
   "execution_count": 13,
   "metadata": {},
   "outputs": [
    {
     "data": {
      "image/png": "[encoded data removed]",
      "text/plain": [
       "<IPython.core.display.Image object>"
      ]
     },
     "metadata": {},
     "output_type": "display_data"
    }
   ],
   "source": [
    "plot(err);\n",
    "title('Errores');"
   ]
  }
 ],
 "metadata": {
  "kernelspec": {
   "display_name": "Matlab",
   "language": "matlab",
   "name": "matlab"
  },
  "language_info": {
   "file_extension": ".m",
   "help_links": [
    {
     "text": "MetaKernel Magics",
     "url": "https://github.com/calysto/metakernel/blob/master/metakernel/magics/README.md"
    }
   ],
   "mimetype": "text/x-octave",
   "name": "matlab",
   "version": "0.9.4"
  }
 },
 "nbformat": 4,
 "nbformat_minor": 1
}
