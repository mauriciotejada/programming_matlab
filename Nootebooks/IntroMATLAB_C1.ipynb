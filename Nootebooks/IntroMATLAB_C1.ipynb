{
 "cells": [
  {
   "cell_type": "markdown",
   "metadata": {},
   "source": [
    "# Introducción a la Programación en MATLAB (C1)\n",
    "\n",
    "Mauricio Tejada\n",
    "\n",
    "ILADES - Universidad Alberto Hurtado\n",
    "\n",
    "Agosto 2017"
   ]
  },
  {
   "cell_type": "markdown",
   "metadata": {},
   "source": [
    "**Descripción**\n",
    "\n",
    "Este curso enseña programación en Matlab a aquellos que tienen muy poca o ninguna experiencia previa en el tema. Matlab es usado como programa base porque es fácil de aprender, es versátil, y es muy útil para el análisis numérico. Además es, por ahora, el estándar en la profesión. Cómo complemento, a lo largo del curso se presentarán diversas aplicaciones a problemas económicos. El curso requiere que el alumno acompañe las clases con su computador para replicar los ejercicios y aplicaciones provistas.\n",
    "\n",
    "**Material**\n",
    "\n",
    "[www.mauriciotejada.com](https://mauriciotejada.com) en la sección *Teaching* encontrarán *Introduction to Programming in Matlab*. Ahí estarán disponibles todos los *notebooks* y los archivos complementarios asociados a las clases.\n",
    "\n",
    "**Consultas y horas de oficina**\n",
    "\n",
    "Erasmo Escala 1835 Oficina 211 (Segundo Piso)\n",
    "\n",
    "[matejada@uahurtado.cl](mailto:matejada@uahurtado.cl)"
   ]
  },
  {
   "cell_type": "markdown",
   "metadata": {},
   "source": [
    "## Contenidos\n",
    "\n",
    "- [Motivación](#1.-Motivación:-Soluciones-Numéricas-vs-Soluciones-Algebraicas)"
   ]
  },
  {
   "cell_type": "markdown",
   "metadata": {},
   "source": [
    "## 1. Motivación: Soluciones Numéricas vs Soluciones Algebraicas"
   ]
  },
  {
   "cell_type": "markdown",
   "metadata": {},
   "source": [
    "Para motivar tomamos el ejemplo presentado en el capítulo introductorio del libro de [Miranda y Fackler](https://mitpress.mit.edu/books/applied-computational-economics-and-finance).\n",
    "\n",
    "Consideremos la siguiente función de demanda: \n",
    "$$q=p^{-0.2}$$\n",
    "\n",
    "Dos preguntas fáciles de responder: \n",
    "\n",
    "1. ¿Cuál es la función inversa de demanda?\n",
    "2. ¿Cuál es el precio que clarea el mercado cuando la cantidad es 2?\n",
    "\n",
    "Respuestas:\n",
    "\n",
    "1. Solución algebraica:\n",
    "$$p=q^{-5}$$\n",
    "\n",
    "2. Usando una calculadora:"
   ]
  },
  {
   "cell_type": "code",
   "execution_count": 1,
   "metadata": {},
   "outputs": [
    {
     "name": "stdout",
     "output_type": "stream",
     "text": [
      "p =\n",
      "\n",
      "    0.0312\n"
     ]
    }
   ],
   "source": [
    "p=2^-5"
   ]
  },
  {
   "cell_type": "markdown",
   "metadata": {},
   "source": [
    "Ahora intentemos con una función de demanda algo diferente:\n",
    "$$q=0.5p^{-0.2} + 0.5p^{-0.5}$$\n",
    "\n",
    "Esta función contiene dos términos: \n",
    "- Una demanda doméstica.\n",
    "- Una demanda por exportación.\n",
    "\n",
    "Usando argumentos formales basados en los teoremas del Valor Intermedio y de la Función Implícita se puede establecer que la función inversa de demanda está bien definida, es continua y estrictamente decreciente. Por tanto, existe un único precio que clarea el mercado.\n",
    "\n",
    "Solución a las preguntas (1) y (2): No existe un solución cerrada para la función inversa de demanda. ¿Cómo calculamos el precio que clarea el mercado?\n",
    "\n",
    "** Alternativa: ** Solución numérica."
   ]
  },
  {
   "cell_type": "code",
   "execution_count": 2,
   "metadata": {},
   "outputs": [
    {
     "name": "stdout",
     "output_type": "stream",
     "text": [
      "0.1542\n"
     ]
    }
   ],
   "source": [
    "p = 0.25;\n",
    "for i=1:100\n",
    "  deltap = (.5*p^-.2+.5*p^-.5-2)/(.1*p^-1.2 + .25*p^-1.5);\n",
    "  p = p + deltap;\n",
    "  if abs(deltap) < 1.e-8, break, end\n",
    "end \n",
    "disp(p);"
   ]
  },
  {
   "cell_type": "markdown",
   "metadata": {},
   "source": [
    "Incluso podemos ver como luce la función de demanda inversa usando la misma idea:"
   ]
  },
  {
   "cell_type": "code",
   "execution_count": 3,
   "metadata": {},
   "outputs": [
    {
     "name": "stdout",
     "output_type": "stream",
     "text": [
      "0.5000    8.3553\n",
      "    0.6000    4.6392\n",
      "    0.7000    2.8710\n",
      "    0.8000    1.9178\n",
      "    0.9000    1.3553\n",
      "    1.0000    1.0000\n",
      "    1.1000    0.7634\n",
      "    1.2000    0.5990\n",
      "    1.3000    0.4808\n",
      "    1.4000    0.3932\n",
      "    1.5000    0.3268\n",
      "    1.6000    0.2753\n",
      "    1.7000    0.2348\n",
      "    1.8000    0.2023\n",
      "    1.9000    0.1759\n",
      "    2.0000    0.1542\n",
      "    2.1000    0.1362\n",
      "    2.2000    0.1210\n"
     ]
    }
   ],
   "source": [
    "q = (0.5:0.1:2.2)';\n",
    "P = zeros(length(q),1);\n",
    "for j=1:length(q)\n",
    "    p = 0.25;\n",
    "    for i=1:100\n",
    "        deltap = (.5*p^-.2+.5*p^-.5-q(j))/(.1*p^-1.2 + .25*p^-1.5);\n",
    "        p = p + deltap;\n",
    "        if abs(deltap) < 1.e-8, break, end\n",
    "    end \n",
    "    P(j) = p;\n",
    "end;\n",
    "\n",
    "disp([q P]);"
   ]
  },
  {
   "cell_type": "code",
   "execution_count": 4,
   "metadata": {},
   "outputs": [
    {
     "data": {
      "image/png": "[encoded data removed]",
      "text/plain": [
       "<IPython.core.display.Image object>"
      ]
     },
     "metadata": {},
     "output_type": "display_data"
    }
   ],
   "source": [
    "plot(q,P);\n",
    "ylabel('Precio');\n",
    "xlabel('Cantidad');"
   ]
  },
  {
   "cell_type": "markdown",
   "metadata": {},
   "source": [
    "Incluso podríamos usar interpolación lineal para evaluar puntos de la función de demanda fuera de los encontrados en la tabla que caracteriza la demanda:"
   ]
  },
  {
   "cell_type": "code",
   "execution_count": 5,
   "metadata": {},
   "outputs": [
    {
     "name": "stdout",
     "output_type": "stream",
     "text": [
      "pi =\n",
      "\n",
      "    0.3560\n"
     ]
    }
   ],
   "source": [
    "pi = interp1(q,P,1.456)"
   ]
  }
 ],
 "metadata": {
  "kernelspec": {
   "display_name": "Matlab",
   "language": "matlab",
   "name": "matlab"
  },
  "language_info": {
   "file_extension": ".m",
   "help_links": [
    {
     "text": "MetaKernel Magics",
     "url": "https://github.com/calysto/metakernel/blob/master/metakernel/magics/README.md"
    }
   ],
   "mimetype": "text/x-octave",
   "name": "matlab",
   "version": "0.9.4"
  }
 },
 "nbformat": 4,
 "nbformat_minor": 1
}
