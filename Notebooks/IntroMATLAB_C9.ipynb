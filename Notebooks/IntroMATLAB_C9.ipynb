{
 "cells": [
  {
   "cell_type": "markdown",
   "metadata": {},
   "source": [
    "# Introducción a la Programación en MATLAB (C9)\n",
    "\n",
    "Mauricio Tejada\n",
    "\n",
    "ILADES - Universidad Alberto Hurtado\n",
    "\n",
    "Agosto 2017"
   ]
  },
  {
   "cell_type": "markdown",
   "metadata": {},
   "source": [
    "## Contenidos\n",
    "\n",
    "- [Diferenciación e Integración Numérica](#9.-Diferenciación-e-Integración-Numérica)\n",
    "    - [Diferenciación](#9.1-Diferenciación)\n",
    "    - [Integrales](#9.2-Integración)\n"
   ]
  },
  {
   "cell_type": "markdown",
   "metadata": {},
   "source": [
    "## 9. Diferenciación e Integración Numérica"
   ]
  },
  {
   "cell_type": "markdown",
   "metadata": {},
   "source": [
    "### 9.1 Diferenciación\n",
    "\n",
    "*Ideas Básicas:* La forma más natural de aproximar una derivada es reemplazarla con una diferencia finita. Recordemos que la definición de derivada:\n",
    "\n",
    "$$ f'(x) = \\lim_{h \\rightarrow 0} \\frac{f(x+h)-f(x)}{h}$$ \n",
    "\n",
    "Por tanto la aproximación será: \n",
    "\n",
    "$$f'(x) = \\frac{f(x+h)-f(x)}{h}$$ \n",
    "\n",
    "para un $h$ pequeño. Dado que la anterior ecuación representa una aproximación a la definición de derivada, existirá un error de aproximación asociado. \n",
    "\n",
    "Una alternativa, con un error de aproximación menor, es construir la aproximación usando diferencias a los dos lados:\n",
    "\n",
    "$$f'(x) = \\frac{f(x+h)-f(x-h)}{2h}$$ \n",
    "\n",
    "¿Cuán pequeño debe ser $h$? Existe una disyuntiva:\n",
    "\n",
    "- Cuando $h$ es muy pequeño, errores de redondeo pueden llevar a un resultado sin sentido.\n",
    "- Cuando $h$ es muy grande, generar una aproximación muy pobre.\n",
    "\n",
    "Miranda y Fackler proveen una regla para la aproximación de dos lados: $$h=max(|x|,1)*\\sqrt[3]{\\epsilon}$$ con $\\epsilon$ es denominado *machine precision*. \n",
    "\n",
    "Escribamos la función que calcula la jacobiana de una función (tomada del libro de Miranda y Fackler).\n",
    "\n",
    "```\n",
    "function fjac = fdjac(f,x)\n",
    "\n",
    "h = eps^(1/3)*max(abs(x),1);\n",
    "\n",
    "xh1 = x+h;\n",
    "xh0 = x-h;\n",
    "hh  = xh1- xh0;  % 2h\n",
    "\n",
    "for j=1:length(x);\n",
    "    xx = x;\n",
    "    xx(j) = xh1(j);\n",
    "    f1 = feval(f,xx);\n",
    "    xx(j) = xh0(j);\n",
    "    f0 = feval(f,xx);\n",
    "    fjac(:,j) = (f1-f0)/hh(j);\n",
    "end\n",
    "\n",
    "end\n",
    "```\n",
    "\n",
    "Probemos la función aproximando la derivada de la función $$f(x) = 2x^2+x-1$$\n",
    "\n",
    "Sabemos que: $$f'(x) = 4x + 1$$ y evaluando en $x=2$ tenemos $f'(2) = 9$."
   ]
  },
  {
   "cell_type": "code",
   "execution_count": 1,
   "metadata": {},
   "outputs": [
    {
     "name": "stdout",
     "output_type": "stream",
     "text": [
      "derv =\n",
      "\n",
      "    9.0000\n"
     ]
    }
   ],
   "source": [
    "% Definimos la funcion\n",
    "fx = @(x) 2*x^2 + x - 1;\n",
    "\n",
    "% Aplicamos la función fdjac (nota que pasamos una función como argumento)\n",
    "derv = fdjac(fx,2)\n"
   ]
  },
  {
   "cell_type": "markdown",
   "metadata": {},
   "source": [
    "Tomemos ahora la siguiente función: $$f(x,y,z) = xyz + 2xy + 2yz + x + y + z$$\n",
    "\n",
    "y usemos la función `fdjac` para encontrar el gradiente de la función.  "
   ]
  },
  {
   "cell_type": "code",
   "execution_count": 2,
   "metadata": {},
   "outputs": [
    {
     "name": "stdout",
     "output_type": "stream",
     "text": [
      "derv =\n",
      "\n",
      "    4.0000    6.0000    4.0000\n"
     ]
    }
   ],
   "source": [
    "% Definimos la función\n",
    "fxyz = @(x) x(1)*x(2)*x(3) + 2*x(1)*x(2) + 2*x(2)*x(3) + x(1) + x(2) + x(3); \n",
    "\n",
    "% Aplicamos la función fdjac (nota que pasamos una función como argumento)\n",
    "x0 = [1; 1; 1];\n",
    "\n",
    "derv = fdjac(fxyz,x0)"
   ]
  },
  {
   "cell_type": "markdown",
   "metadata": {},
   "source": [
    "Ahora escribamos el sistema: \n",
    "\n",
    "$$f(x,y) =  x^2 + y^2 - 2$$\n",
    "$$g(x,y) = xy$$ \n",
    "\n",
    "en un m-file.\n",
    "\n",
    "```\n",
    "function f = sys(var)\n",
    "\n",
    "f = zeros(length(var),1);\n",
    "\n",
    "x = var(1);\n",
    "y = var(2);\n",
    "\n",
    "f(1) = x^2 + y^2 - 2;\n",
    "f(2) = x*y;\n",
    "\n",
    "end\n",
    "```\n",
    "\n",
    "Ahora usemos la función `fdjac` para encontrar la matriz jacobiana del sistema evaluada en el punto $(1,1)$:"
   ]
  },
  {
   "cell_type": "code",
   "execution_count": 3,
   "metadata": {},
   "outputs": [
    {
     "name": "stdout",
     "output_type": "stream",
     "text": [
      "g =\n",
      "\n",
      "    2.0000    2.0000\n",
      "    1.0000    1.0000\n"
     ]
    }
   ],
   "source": [
    "clear all;\n",
    "x0 = [1; 1];\n",
    "g = fdjac('sys',x0)"
   ]
  },
  {
   "cell_type": "markdown",
   "metadata": {},
   "source": [
    "Un alternativa es usar el toolbox [Adaptive Robust Numerical Differentiation](https://www.google.com/url?sa=t&rct=j&q=&esrc=s&source=web&cd=1&cad=rja&uact=8&ved=0ahUKEwiCp5-chaHOAhUCgZAKHSI1DbcQFggjMAA&url=https%3A%2F%2Fwww.mathworks.com%2Fmatlabcentral%2Ffileexchange%2F13490-adaptive-robust-numerical-differentiation&usg=AFQjCNGM1pRSGhe-PSMfNYjTOHuQWFoaQg&sig2=ki8IPbeN1lEwVdtiCOrw5Q). Este toolbox es gratuito y permite, bajo la lógica anterior pero usando métodos adaptativos, calcular la derivada (1er, 2do, 3er y 4to orden), el vector gradiente, la matriz jacobiana y la matriz hessiana. Las opciones básicas son:\n",
    "\n",
    "- Derivadas Parciales: `derivest(fun,punto,'deriv',orden)` con `orden` 1,2,3,4 y `fun` una función escalar\n",
    "- Gradiente: `gradest(fun,punto)` con `fun` una función escalar.\n",
    "- Jacobiana: `jacobianest(fun,punto)` con `fun` un sistema de ecuaciones.\n",
    "- Matriz hessiana: `hessian(fun,punto)` con `fun` una función escalar.\n",
    "\n",
    "Para detalles de todas las opciones ver la documentación del toolbox.\n",
    "\n",
    "*Nota: La última versión del toolbox soporta matlab R2014b o superior. Para una versión anterior solicitarla por email al profesor.* "
   ]
  },
  {
   "cell_type": "markdown",
   "metadata": {
    "collapsed": true
   },
   "source": [
    "### 9.2 Integración\n",
    "\n",
    "*Ideas Básicas:* En muchas aplicaciones económicas es necesario calcular la integral definida de una función $f(x)$ con respecto a una función de ponderadores $w(x)$ sobre el intervalo $I$ en $R^n$.\n",
    "\n",
    "$$\\int_I f(x)w(x)dx$$\n",
    "\n",
    "En algunos casos la función de ponderadores podría ser la unidad, $w(x)=1$, de tal manera que la integral representa el área bajo la función $f(x)$. En otras aplicaciones, $w(x)$ podría ser una función de densidad de tal manera que la integral representa $E[f(x)]$.\n",
    "\n",
    "Los métodos conocidos como cuadraturas aproximan la integral de la función con una suma ponderada de valores de la función:\n",
    "\n",
    "$$\\int_I f(x)w(x)dx \\approx \\sum^{n}_{i=0}w_if(x_i)$$\n",
    "\n",
    "La elección de los ponderadores $w_i$ y de los nodos $x_i$ definen el método.\n",
    "\n",
    "- Newton-Cotes: Usa polinomios para aproximar la función entre los nodos.\n",
    "- Cuadraturas Gausianas: Elige los ponderadores y los nodos (puntos en $x$) de manera de machear ciertos momentos.\n",
    "- Monte Carlo: Usa ponderadores aleatorios y nodos equidistribuidos.\n",
    "\n",
    "Para ganar intuición vamos a analizar sólo dos versiones simples de las cuadraturas de Newton-Cotes para una función univariada.\n",
    "\n",
    "**Newton-Cotes**\n",
    "\n",
    "Buscamos calcular: $$\\int_a^b f(x) dx$$\n",
    "\n",
    "- Regla basadas en trapezoides: \n",
    "    - $x_i = a + (i-1)h$ con $h=(b-a)/(n-1)$ e $i=1,..,n$.\n",
    "    - En el subintervalo $[x_i,x_{i+1}]$ aproximar: $$\\int_{x_i}^{x_{i+1}} f(x) dx \\approx \\frac{h}{2}[f(x_i)+f(x_{i+1}]$$\n",
    "    - Sumando las subareas: $$\\int_a^b f(x)dx \\approx \\sum^{n}_{i=0}w_if(x_i)$$\n",
    "    con $w_1=w_n=h/2$ y $w_i$.\n",
    "    ![](https://upload.wikimedia.org/wikipedia/commons/thumb/0/03/Integration_trapezoid.svg/300px-Integration_trapezoid.svg.png)\n",
    "- Regla de Simpson:\n",
    "    - $x_i = a + (i-1)h$ con $h=(b-a)/(n-1)$ e $i=1,..,n$.\n",
    "    - En el par de subintervalos $[x_{2j-1},x_{2j}]$ y $[x_{2j},x_{2j+1}]$ el área bajo la función cuadrática aproximada que pasa por esos tres puntos es: $$\\int_{x_{2j-1}}^{x_{2j+1}} f(x) dx \\approx \\frac{h}{3}[f(x_{2j-1})+4f(x_{2j})+f(x_{2j+1}]$$\n",
    "    - Sumando las subareas: $$\\int_a^b f(x)dx \\approx \\sum^{n}_{i=0}w_if(x_i)$$\n",
    "    con $w_1=w_n=h/3$, $w_4h/3$ para $i$ para y $w_i=2h/3$ para $i$ impar.\n",
    "    ![](https://upload.wikimedia.org/wikipedia/commons/thumb/1/13/Integration_simpson.svg/300px-Integration_simpson.svg.png)\n",
    "    "
   ]
  },
  {
   "cell_type": "markdown",
   "metadata": {},
   "source": [
    "Matlab implementa estos dos métodos de aproximación de la integral con los siguientes comandos:\n",
    "- `quad(fun,a,b)` donde `fun`es una función escalar, implementa la regla de Simpson.\n",
    "- `trapz(y)` donde $y_i=f(x_i)$, implementa la regla basa de trapezoides.  \n",
    "\n",
    "Ejemplo:"
   ]
  },
  {
   "cell_type": "code",
   "execution_count": 4,
   "metadata": {},
   "outputs": [
    {
     "name": "stdout",
     "output_type": "stream",
     "text": [
      "0.4213\n"
     ]
    }
   ],
   "source": [
    "% Usando Quad\n",
    "fx = @(x) 1./(x.^3-2*x+5);\n",
    "Q = quad(fx,0,2);\n",
    "disp(Q);"
   ]
  },
  {
   "cell_type": "code",
   "execution_count": 5,
   "metadata": {},
   "outputs": [
    {
     "data": {
      "image/png": "[encoded data removed]",
      "text/plain": [
       "<IPython.core.display.Image object>"
      ]
     },
     "metadata": {},
     "output_type": "display_data"
    }
   ],
   "source": [
    "x = 0:0.01:2;\n",
    "f = fx(x);\n",
    "area(x,f);"
   ]
  },
  {
   "cell_type": "code",
   "execution_count": 6,
   "metadata": {},
   "outputs": [
    {
     "name": "stdout",
     "output_type": "stream",
     "text": [
      "0.4213\n"
     ]
    }
   ],
   "source": [
    "% Usando Trapz\n",
    "Q2 = trapz(x,f);\n",
    "disp(Q2);"
   ]
  },
  {
   "cell_type": "markdown",
   "metadata": {},
   "source": [
    "Notas:\n",
    "- La función `quad` es evaluada de manera vectorial por lo que las divisiones, las multiplicaciones y las potencias deben explicitarse como operaciones elemento por elemento.\n",
    "- La función `quad` sólo permite integrar la función en límites finitos. Para transformar los límites de la integral usar cambio de variable.\n",
    "- La función `trapz` es una función vectorial. Evaluamos la función en el intervalo de puntos en que queremos integrar.\n",
    "- `quad` funciona mejor que `trapz` con funciones que tiene un comportamiento suave y sin discontinuidades.\n",
    "\n",
    "Ejemplo: Para integrar \n",
    "\n",
    "$$\\int^{\\infty}_{-\\infty} f(x) dx$$\n",
    "\n",
    "usar $x=\\frac{t}{1-t^2}$ de tal manera que $dx=\\frac{1+t^2}{(1-t^2)^2} dt$ y $t=\\frac{\\sqrt{1+4x^2}-1}{2x}$. Note que:\n",
    "\n",
    "$$\\int^{\\infty}_{-\\infty} f(x) dx = \\int^{1}_{-1} f\\left(\\frac{t}{1-t^2} \\right) \\frac{1+t^2}{(1-t^2)^2} dt$$\n",
    "\n",
    "Éste y otro ejemplos pueden ser encontrado en la página de Wikipedia sobre [integración numérica](https://en.wikipedia.org/wiki/Numerical_integration)."
   ]
  },
  {
   "cell_type": "markdown",
   "metadata": {},
   "source": [
    "En versiones más recientes de Matlab se incorporó la función `integral` que usa algoritmos más eficientes y precisos. Además permite integrar en límites `-Inf` e `Inf`.\n",
    "\n",
    "- `integral(fun,a,b)` donde `fun` es una función escalar. \n",
    "\n",
    "En el futuro, Matlab removerá `quad` y sólo quedara la función `integral`.\n",
    "\n",
    "Ejemplo: Resolvamos el siguiente problema:\n",
    "\n",
    "$$\\int^{\\infty}_{0} e^{-x^2} (log(x))^2 dx$$"
   ]
  },
  {
   "cell_type": "code",
   "execution_count": 7,
   "metadata": {},
   "outputs": [
    {
     "name": "stdout",
     "output_type": "stream",
     "text": [
      "1.9475\n"
     ]
    }
   ],
   "source": [
    "f = @(x) exp(-x.^2).*log(x).^2;\n",
    "Q3 = integral(f,0,Inf);\n",
    "disp(Q3);"
   ]
  },
  {
   "cell_type": "markdown",
   "metadata": {},
   "source": [
    "**Integrales Dobles**\n",
    "\n",
    "Para integrales dobles usamos el función `integral2`. La sintaxis es como sigue:\n",
    "\n",
    "- `integral2(fun,xmin,xmax,ymin,ymax)`\n",
    "\n",
    "Por ejemplo, integremos la siguiente función:\n",
    "\n",
    "$$  \\int^1_0  \\int^{1-x}_{0}\\frac{1}{\\sqrt{(x + y)} (1 + x + y)^2} dy dx$$\n",
    "\n",
    "Para implementar el problema anterior debemos definir dos funciones:"
   ]
  },
  {
   "cell_type": "code",
   "execution_count": 8,
   "metadata": {
    "scrolled": true
   },
   "outputs": [
    {
     "name": "stdout",
     "output_type": "stream",
     "text": [
      "fun =\n",
      "\n",
      "  function_handle with value:\n",
      "\n",
      "    @(x,y)1./(sqrt(x+y).*(1+x+y).^2)\n",
      "\n",
      "\n",
      "ymax =\n",
      "\n",
      "  function_handle with value:\n",
      "\n",
      "    @(x)1-x\n"
     ]
    }
   ],
   "source": [
    "fun = @(x,y) 1./(sqrt(x + y).*(1 + x + y).^2)\n",
    "ymax = @(x) 1 - x"
   ]
  },
  {
   "cell_type": "code",
   "execution_count": 9,
   "metadata": {},
   "outputs": [
    {
     "name": "stdout",
     "output_type": "stream",
     "text": [
      "0.2854\n"
     ]
    }
   ],
   "source": [
    "Q4 = integral2(fun,0,1,0,ymax);\n",
    "disp(Q4)"
   ]
  },
  {
   "cell_type": "code",
   "execution_count": 10,
   "metadata": {},
   "outputs": [
    {
     "name": "stdout",
     "output_type": "stream",
     "text": [
      "Q4 =\n",
      "\n",
      "    0.2854\n"
     ]
    }
   ],
   "source": [
    "Q4 = integral2(fun,0,1,0,@(x) 1-x)"
   ]
  }
 ],
 "metadata": {
  "kernelspec": {
   "display_name": "Matlab",
   "language": "matlab",
   "name": "matlab"
  },
  "language_info": {
   "file_extension": ".m",
   "help_links": [
    {
     "text": "MetaKernel Magics",
     "url": "https://github.com/calysto/metakernel/blob/master/metakernel/magics/README.md"
    }
   ],
   "mimetype": "text/x-octave",
   "name": "matlab",
   "version": "0.9.4"
  }
 },
 "nbformat": 4,
 "nbformat_minor": 1
}
