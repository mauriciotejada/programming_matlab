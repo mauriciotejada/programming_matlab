{
 "cells": [
  {
   "cell_type": "markdown",
   "metadata": {},
   "source": [
    "# Introducción a la Programación en MATLAB (C2)\n",
    "\n",
    "Mauricio Tejada\n",
    "\n",
    "ILADES - Universidad Alberto Hurtado\n",
    "\n",
    "Agosto 2017\n"
   ]
  },
  {
   "cell_type": "markdown",
   "metadata": {},
   "source": [
    "## Contenidos\n",
    "\n",
    "- [Primeros Pasos en Matlab](#2.-Primeros-Pasos-en-Matlab)\n",
    "    - [Menú, Ventanas y Directorios](#2.1-Menú,-Ventanas-y-Directorios)\n",
    "    - [Ayuda](#2.2-Ayuda)\n",
    "    - [Variables](#2.3-Variables)\n",
    "    - [Imprimir resultados en pantalla](#2.4-Imprimir-Resultados-en-Pantalla)\n",
    "    - [Elementos Básicos para Graficar](#2.5-Elementos-Básicos-para-Graficar)"
   ]
  },
  {
   "cell_type": "markdown",
   "metadata": {},
   "source": [
    "## 2. Primeros Pasos en Matlab\n",
    "\n",
    "**Matlab** (abreviatura de MATrix LABoratory, \"laboratorio de matrices\") es uno de los paquetes más populares para realizar análisis numérico. \n",
    "\n",
    "Ofrece un *entorno de desarrollo integrado (IDE)* con un *lenguaje de programación propio (lenguaje M)*.\n",
    "\n",
    "El lenguaje M es un lenguaje de *alto nivel (high level)*:\n",
    "- Simple de aprender y usar. \n",
    "- El costo está en los tiempos de ejecución. \n",
    "- Si bien las computadoras que tenemos hacen que dicho costo se haya reducido, éste lamentablemente no se ha eliminado y depende del problema que tengamos.\n",
    "\n",
    "> Un lenguaje de *programación de alto nivel* se caracteriza por expresar el algoritmo de una manera adecuada a la capacidad cognitiva humana, en lugar de la capacidad ejecutora de las máquinas. \n",
    ">\n",
    ">Un lenguaje de *programación de bajo nivel* es aquel en el que sus instrucciones ejercen un control directo sobre el hardware y están condicionados por la estructura física de las computadoras que lo soportan. \n",
    ">\n",
    ">El uso de la palabra bajo nivel no implica que el lenguaje sea menos potente que un lenguaje de alto nivel, sino que se refiere a la reducida abstracción entre el lenguaje y el hardware \n",
    ">\n",
    ">*Wikipedia*"
   ]
  },
  {
   "cell_type": "markdown",
   "metadata": {},
   "source": [
    "### 2.1 Menú, Ventanas y Directorios\n",
    "\n",
    "Interfaz gráfica del usuario (versión 2015b):\n",
    "\n",
    "![Photo](matlabgui.png)"
   ]
  },
  {
   "cell_type": "markdown",
   "metadata": {},
   "source": [
    "Matlab almacena todo en la memoria RAM del computador. Para liberar la memoria se usan los siguientes comandos:\n",
    "\n",
    "* La memoria se limpia con el comando `clear`\n",
    "* La pantalla se limpia con el comando `clc`.\n",
    "\n",
    "Matlab usa el espacio de un directorio como área de trabajo. Dicho directorio se denomina *directorio de trabajo* y todos los archivos (que no formen parte del paquete) deber estar en dicho directorio.\n",
    "\n",
    "* Usar `pwd` para conocer el directorio de trabajo actual.\n",
    "* Usar `cd('directorio')` para cambiar el directorio de trabajo."
   ]
  },
  {
   "cell_type": "code",
   "execution_count": 1,
   "metadata": {
    "collapsed": true
   },
   "outputs": [],
   "source": [
    "clear all;"
   ]
  },
  {
   "cell_type": "code",
   "execution_count": 2,
   "metadata": {
    "scrolled": true
   },
   "outputs": [
    {
     "name": "stdout",
     "output_type": "stream",
     "text": [
      "ans =\n",
      "\n",
      "    '/Users/mauriciotejada/Dropbox/MT/Teaching/MAE - Matlab/Nootebooks'\n"
     ]
    }
   ],
   "source": [
    "pwd"
   ]
  },
  {
   "cell_type": "code",
   "execution_count": 3,
   "metadata": {},
   "outputs": [
    {
     "name": "stdout",
     "output_type": "stream",
     "text": [
      "ans =\n",
      "\n",
      "    '/Users/mauriciotejada/Dropbox'\n"
     ]
    }
   ],
   "source": [
    "cd('/Users/mauriciotejada/Dropbox/');\n",
    "pwd"
   ]
  },
  {
   "cell_type": "code",
   "execution_count": 4,
   "metadata": {
    "collapsed": true
   },
   "outputs": [],
   "source": [
    "cd('/Users/mauriciotejada/Dropbox/MT/Teaching/MAE - Matlab/Nootebooks');"
   ]
  },
  {
   "cell_type": "markdown",
   "metadata": {},
   "source": [
    "- Los usuarios de Windows deben usar las rutas en formato `C:\\Dir\\Subdir\\`\n",
    "\n",
    "Existen ocasiones en que podemos tener algún procedimiento que usamos regularmente. Para usarlo en cada proyecto tendríamos que copiarlo en cada carpeta de trabajo. *No parece eficiente ya que estaríamos duplicando archivos*. Un mejor enfoque es llamar el directorio de procedimientos cada vez que los necesitemos.\n",
    "\n",
    "- Usar `addpath('directorio')` adicionar temporalmente un directorio en el path de búsqueda de Matlab."
   ]
  },
  {
   "cell_type": "markdown",
   "metadata": {},
   "source": [
    "### 2.2 Ayuda\n",
    "\n",
    "Más allá de este curso introductorio, la mejor forma de aprender Matlab es a través de la experimentación. Las dos fuentes más importantes para referencia: \n",
    "1. Documentación de Matlab (que es clara, extensa y amigable). \n",
    "2. Google (existen literalmente millones de códigos en la web que resuelven distintos problemas).\n",
    "\n",
    "Existen distintas formas de acceder a la documentación de Matlab.\n",
    "\n",
    "- Ayuda: `help`\n",
    "- Ayuda sobre un comando o procedimiento particular: `help comando`\n",
    "- Buscar ayuda usando una palabra clave: `lookfor('palabra clave')`"
   ]
  },
  {
   "cell_type": "code",
   "execution_count": 5,
   "metadata": {},
   "outputs": [
    {
     "name": "stdout",
     "output_type": "stream",
     "text": [
      "MEAN   Average or mean value.\n",
      "    S = MEAN(X) is the mean value of the elements in X if X is a vector. \n",
      "    For matrices, S is a row vector containing the mean value of each \n",
      "    column. \n",
      "    For N-D arrays, S is the mean value of the elements along the first \n",
      "    array dimension whose size does not equal 1.\n",
      " \n",
      "    MEAN(X,DIM) takes the mean along the dimension DIM of X.\n",
      " \n",
      "    S = MEAN(...,TYPE) specifies the type in which the mean is performed, \n",
      "    and the type of S. Available options are:\n",
      " \n",
      "    'double'    -  S has class double for any input X\n",
      "    'native'    -  S has the same class as X\n",
      "    'default'   -  If X is floating point, that is double or single,\n",
      "                   S has the same class as X. If X is not floating point, \n",
      "                   S has class double.\n",
      " \n",
      "    S = MEAN(...,NANFLAG) specifies how NaN (Not-A-Number) values are \n",
      "    treated. The default is 'includenan':\n",
      " \n",
      "    'includenan' - the mean of a vector containing NaN values is also NaN.\n",
      "    'omitnan'    - the mean of a vector containing NaN values is the mean \n",
      "                   of all its non-NaN elements. If all elements are NaN,\n",
      "                   the result is NaN.\n",
      " \n",
      "    Example:\n",
      "        X = [1 2 3; 3 3 6; 4 6 8; 4 7 7]\n",
      "        mean(X,1)\n",
      "        mean(X,2)\n",
      " \n",
      "    Class support for input X:\n",
      "       float: double, single\n",
      "       integer: uint8, int8, uint16, int16, uint32,\n",
      "                int32, uint64, int64\n",
      " \n",
      "    See also MEDIAN, STD, MIN, MAX, VAR, COV, MODE.\n",
      "\n",
      "    Reference page in Doc Center\n",
      "       doc mean\n",
      "\n",
      "    Other functions named mean\n",
      "\n",
      "       codistributed/mean    fints/mean                tall/mean\n",
      "       datetime/mean         gpuArray/mean             timeseries/mean\n",
      "       duration/mean         ProbDistUnivParam/mean\n"
     ]
    }
   ],
   "source": [
    "help mean"
   ]
  },
  {
   "cell_type": "code",
   "execution_count": 6,
   "metadata": {},
   "outputs": [
    {
     "name": "stdout",
     "output_type": "stream",
     "text": [
      "movstd                         - Moving standard deviation value.\n",
      "std                            - Standard deviation.\n",
      "corr2cov                       - Converts standard deviation and correlation to covariance.\n",
      "cov2corr                       - Converts covariance to standard deviation and correlation coefficient.\n",
      "std2                           - Standard deviation of matrix elements.\n",
      "stdfilt                        - Local standard deviation of image.\n",
      "stdm                           - Standard deviation for geographic points\n",
      "prestd                         - Preprocesses the data so that the mean is 0 and the standard deviation is 1.\n",
      "trastd                         - Preprocesses data using a precalculated mean and standard deviation.\n",
      "dspblkstd2                     - DSP System Toolbox Standard deviation block helper function.\n",
      "nanstd                         - Standard deviation, ignoring NaNs.\n",
      "schart                         - S chart for monitoring the standard deviation.\n"
     ]
    }
   ],
   "source": [
    "lookfor('standard deviation')"
   ]
  },
  {
   "cell_type": "markdown",
   "metadata": {},
   "source": [
    "- Para conocer las funciones elementales de Matlab usamos `help elfun`."
   ]
  },
  {
   "cell_type": "code",
   "execution_count": 7,
   "metadata": {},
   "outputs": [
    {
     "name": "stdout",
     "output_type": "stream",
     "text": [
      "Elementary math functions.\n",
      " \n",
      "  Trigonometric.\n",
      "    sin         - Sine.\n",
      "    sind        - Sine of argument in degrees.\n",
      "    sinh        - Hyperbolic sine.\n",
      "    asin        - Inverse sine.\n",
      "    asind       - Inverse sine, result in degrees.\n",
      "    asinh       - Inverse hyperbolic sine.\n",
      "    cos         - Cosine.\n",
      "    cosd        - Cosine of argument in degrees.\n",
      "    cosh        - Hyperbolic cosine.\n",
      "    acos        - Inverse cosine.\n",
      "    acosd       - Inverse cosine, result in degrees.\n",
      "    acosh       - Inverse hyperbolic cosine.\n",
      "    tan         - Tangent.\n",
      "    tand        - Tangent of argument in degrees.\n",
      "    tanh        - Hyperbolic tangent.\n",
      "    atan        - Inverse tangent.\n",
      "    atand       - Inverse tangent, result in degrees.\n",
      "    atan2       - Four quadrant inverse tangent.\n",
      "    atan2d      - Four quadrant inverse tangent, result in degrees.\n",
      "    atanh       - Inverse hyperbolic tangent.\n",
      "    sec         - Secant.\n",
      "    secd        - Secant of argument in degrees.\n",
      "    sech        - Hyperbolic secant.\n",
      "    asec        - Inverse secant.\n",
      "    asecd       - Inverse secant, result in degrees.\n",
      "    asech       - Inverse hyperbolic secant.\n",
      "    csc         - Cosecant.\n",
      "    cscd        - Cosecant of argument in degrees.\n",
      "    csch        - Hyperbolic cosecant.\n",
      "    acsc        - Inverse cosecant.\n",
      "    acscd       - Inverse cosecant, result in degrees.\n",
      "    acsch       - Inverse hyperbolic cosecant.\n",
      "    cot         - Cotangent.\n",
      "    cotd        - Cotangent of argument in degrees.\n",
      "    coth        - Hyperbolic cotangent.\n",
      "    acot        - Inverse cotangent.\n",
      "    acotd       - Inverse cotangent, result in degrees.\n",
      "    acoth       - Inverse hyperbolic cotangent.\n",
      "    hypot       - Square root of sum of squares.\n",
      "    deg2rad     - Convert angles from degrees to radians.\n",
      "    rad2deg     - Convert angles from radians to degrees.\n",
      " \n",
      "  Exponential.\n",
      "    exp         - Exponential.\n",
      "    expm1       - Compute exp(x)-1 accurately.\n",
      "    log         - Natural logarithm.\n",
      "    log1p       - Compute log(1+x) accurately.\n",
      "    log10       - Common (base 10) logarithm.\n",
      "    log2        - Base 2 logarithm and dissect floating point number.\n",
      "    pow2        - Base 2 power and scale floating point number.\n",
      "    realpow     - Power that will error out on complex result.\n",
      "    reallog     - Natural logarithm of real number.\n",
      "    realsqrt    - Square root of number greater than or equal to zero.\n",
      "    sqrt        - Square root.\n",
      "    nthroot     - Real n-th root of real numbers.\n",
      "    nextpow2    - Next higher power of 2.\n",
      " \n",
      "  Complex.\n",
      "    abs         - Absolute value.\n",
      "    angle       - Phase angle.\n",
      "    complex     - Construct complex data from real and imaginary parts.\n",
      "    conj        - Complex conjugate.\n",
      "    imag        - Complex imaginary part.\n",
      "    real        - Complex real part.\n",
      "    unwrap      - Unwrap phase angle.\n",
      "    isreal      - True for real array.\n",
      "    cplxpair    - Sort numbers into complex conjugate pairs.\n",
      " \n",
      "  Rounding and remainder.\n",
      "    fix         - Round towards zero.\n",
      "    floor       - Round towards minus infinity.\n",
      "    ceil        - Round towards plus infinity.\n",
      "    round       - Round towards nearest integer.\n",
      "    mod         - Modulus (signed remainder after division).\n",
      "    rem         - Remainder after division.\n",
      "    sign        - Signum.\n"
     ]
    }
   ],
   "source": [
    "help elfun"
   ]
  },
  {
   "cell_type": "markdown",
   "metadata": {},
   "source": [
    "### 2.3 Variables\n",
    "\n",
    "Matlab es un lenguaje basado en expresiones. \n",
    "\n",
    "Las expresiones que introducimos mediante el teclado son interpretadas y evaluadas. \n",
    "\n",
    "Cada expresión genera algún tipo de *output* que puede ser asignado en una *variable*. La asignación se realiza de la siguiente forma:\n",
    "\n",
    "```\n",
    "nombrevariable = expresión\n",
    "```\n",
    "\n",
    "Si se introduce alguna expresión pero no se define un nombre para la variable, Matlab asigna la expresión a una variable auxiliar temporal denominada `ans`.\n",
    "\n",
    "Todas las variables son almacenadas en la memoria RAM del computador por lo que se pierden en cuanto uno sale y apaga  Matlab.\n",
    "\n",
    "Es posible limpiar la memoria usando: \n",
    "\n",
    "```\n",
    "clear nombrevariable1 nombrevariable1 ...\n",
    "```\n",
    "\n",
    "Algunas reglas al elegir los nombres de las variables:\n",
    "\n",
    "- Los nombres deben empezar con una letra y pueden contener letras, números y `_`.\n",
    "- Matlab es sensible a mayúsculas y minúsculas (`x` es diferente de `X`).\n",
    "\n",
    "Tipos básicos de variables:\n",
    "\n",
    "- Numéricas (precisión doble - 64 bits, max $3.4x10^{38}$ y min $-3.4x10^{38}$). Reales o Imaginarias.\n",
    "- Textos (vectores en lo que cada celda tiene un código Unicode de 0 a 65536).\n",
    "- Estructura (tipo de dato que agrupa información contenida en celdas, numéricas o de texto)\n",
    "\n",
    "Asignación de variables numéricas:"
   ]
  },
  {
   "cell_type": "code",
   "execution_count": 8,
   "metadata": {},
   "outputs": [
    {
     "name": "stdout",
     "output_type": "stream",
     "text": [
      "x =\n",
      "\n",
      "    2.5000\n",
      "\n",
      "\n",
      "y =\n",
      "\n",
      "     4\n",
      "\n",
      "\n",
      "X =\n",
      "\n",
      "     5\n",
      "\n",
      "\n",
      "NombreLargo =\n",
      "\n",
      "     4\n",
      "\n",
      "\n",
      "vaim =\n",
      "\n",
      "   2.0000 + 5.0000i\n"
     ]
    }
   ],
   "source": [
    "x  = 2.5\n",
    "y  = 4\n",
    "X  = 5\n",
    "NombreLargo = 4\n",
    "vaim = 2+5i"
   ]
  },
  {
   "cell_type": "markdown",
   "metadata": {},
   "source": [
    "Las de tipo texto se asignan usando `''`:"
   ]
  },
  {
   "cell_type": "code",
   "execution_count": 9,
   "metadata": {},
   "outputs": [
    {
     "name": "stdout",
     "output_type": "stream",
     "text": [
      "Y_1 =\n",
      "\n",
      "    'Texto'\n",
      "\n",
      "\n",
      "VaxTexto =\n",
      "\n",
      "    'Pueden incluirse Espacios'\n"
     ]
    }
   ],
   "source": [
    "Y_1 = 'Texto'\n",
    "VaxTexto = 'Pueden incluirse Espacios'"
   ]
  },
  {
   "cell_type": "markdown",
   "metadata": {},
   "source": [
    "Las estructura se crean definiendo un nombre para la estructura seguido de un punto y  a continuación el nombre de la celda: `NombreEstrutura.NombreCelda = expresión`:"
   ]
  },
  {
   "cell_type": "code",
   "execution_count": 10,
   "metadata": {},
   "outputs": [
    {
     "name": "stdout",
     "output_type": "stream",
     "text": [
      "NombreEst = \n",
      "\n",
      "  struct with fields:\n",
      "\n",
      "    x: 6.5000\n",
      "    y: 'Otro Texto'\n",
      "    X: 20\n",
      "\n",
      "\n",
      "ans =\n",
      "\n",
      "    20\n"
     ]
    }
   ],
   "source": [
    "NombreEst.x = x+y;\n",
    "NombreEst.y = 'Otro Texto';\n",
    "NombreEst.X = 20;\n",
    "\n",
    "NombreEst\n",
    "\n",
    "NombreEst.X"
   ]
  },
  {
   "cell_type": "markdown",
   "metadata": {},
   "source": [
    "Adicionalmente se puede crear una variable vacía. El objetivo es reservar espacio en la memoria."
   ]
  },
  {
   "cell_type": "code",
   "execution_count": 11,
   "metadata": {},
   "outputs": [
    {
     "name": "stdout",
     "output_type": "stream",
     "text": [
      "VarVacia =\n",
      "\n",
      "     []\n"
     ]
    }
   ],
   "source": [
    "VarVacia = []"
   ]
  },
  {
   "cell_type": "markdown",
   "metadata": {},
   "source": [
    "Para saber qué objetos se han creado se usan los comandos `who` y `whos`. El primero muestra los nombres de todas las variables mientras que el segundo además da información detallada del tipo y el tamaño."
   ]
  },
  {
   "cell_type": "code",
   "execution_count": 12,
   "metadata": {},
   "outputs": [
    {
     "name": "stdout",
     "output_type": "stream",
     "text": [
      "Your variables are:\n",
      "\n",
      "NombreEst    VarVacia     X            ans          x            \n",
      "NombreLargo  VaxTexto     Y_1          vaim         y\n"
     ]
    }
   ],
   "source": [
    "who"
   ]
  },
  {
   "cell_type": "code",
   "execution_count": 13,
   "metadata": {},
   "outputs": [
    {
     "name": "stdout",
     "output_type": "stream",
     "text": [
      "Name             Size            Bytes  Class     Attributes\n",
      "\n",
      "  NombreEst        1x1               564  struct              \n",
      "  NombreLargo      1x1                 8  double              \n",
      "  VarVacia         0x0                 0  double              \n",
      "  VaxTexto         1x25               50  char                \n",
      "  X                1x1                 8  double              \n",
      "  Y_1              1x5                10  char                \n",
      "  ans              1x1                 8  double              \n",
      "  vaim             1x1                16  double    complex   \n",
      "  x                1x1                 8  double              \n",
      "  y                1x1                 8  double\n"
     ]
    }
   ],
   "source": [
    "whos"
   ]
  },
  {
   "cell_type": "markdown",
   "metadata": {
    "collapsed": true
   },
   "source": [
    "Además las variables puedes ser locales o globales. \n",
    "- Las variables serán locales si su valor queda en memoria sólo para la sesión o procedimiento con que se esté trabajando. \n",
    "- En el caso de las variables globales, su valor se mantiene para otras sesiones o procedimientos. \n",
    "\n",
    "Por definición todas las variables que están dentro una función son locales (más adelante quedará más claro). \n",
    "\n",
    "Para declarar una variable como global se usa:\n",
    "\n",
    "```\n",
    "global NombreVariable1 NombreVAriable2 ...\n",
    "```"
   ]
  },
  {
   "cell_type": "code",
   "execution_count": 14,
   "metadata": {},
   "outputs": [
    {
     "name": "stdout",
     "output_type": "stream",
     "text": [
      "[\bWarning: The value of local variables may have been changed to match the\n",
      "globals.  Future versions of MATLAB will require that you declare a variable to\n",
      "be global before you use that variable.]\b \n",
      "[\b> In pymat_eval (line 31)\n",
      "  In matlabserver (line 24)]\b \n",
      "[\bWarning: The value of local variables may have been changed to match the\n",
      "globals.  Future versions of MATLAB will require that you declare a variable to\n",
      "be global before you use that variable.]\b \n",
      "[\b> In pymat_eval (line 31)\n",
      "  In matlabserver (line 24)]\b \n",
      "  Name             Size            Bytes  Class     Attributes\n",
      "\n",
      "  NombreEst        1x1               564  struct              \n",
      "  NombreLargo      1x1                 8  double              \n",
      "  VarVacia         0x0                 0  double              \n",
      "  VaxTexto         1x25               50  char                \n",
      "  X                1x1                 8  double              \n",
      "  Y_1              1x5                10  char                \n",
      "  ans              1x1                 8  double              \n",
      "  vaim             1x1                16  double    complex   \n",
      "  x                1x1                 8  double    global    \n",
      "  y                1x1                 8  double    global\n"
     ]
    }
   ],
   "source": [
    "global x y;\n",
    "whos;"
   ]
  },
  {
   "cell_type": "markdown",
   "metadata": {},
   "source": [
    "### 2.4 Imprimir Resultados en Pantalla\n",
    "\n",
    "Para mostrar el valor de las variables en pantalla usamos `disp()` y para imprimirlos en pantalla con un formato determinado usamos `fprintf()`.\n",
    "\n",
    "El comando `disp()`muestra en pantalla el valor asignado a una variable (numérica o texto). Una alternativa es simplemente escribir el nombre de la variable sin el punto y coma.\n",
    "\n",
    "Algunos ejemplos:"
   ]
  },
  {
   "cell_type": "code",
   "execution_count": 15,
   "metadata": {},
   "outputs": [
    {
     "name": "stdout",
     "output_type": "stream",
     "text": [
      "4\n",
      "\n",
      "Texto\n",
      "*** Otra forma ***\n",
      "---------\n"
     ]
    }
   ],
   "source": [
    "disp(NombreLargo);\n",
    "\n",
    "disp(Y_1);\n",
    "disp('*** Otra forma ***');   % Note que esta es una variable de texto \n",
    "                              % definida directamente para disp\n",
    "disp('---------')                              "
   ]
  },
  {
   "cell_type": "code",
   "execution_count": 16,
   "metadata": {},
   "outputs": [
    {
     "name": "stdout",
     "output_type": "stream",
     "text": [
      "2.4599\n"
     ]
    }
   ],
   "source": [
    "h = 2.45986768768;\n",
    "disp(h);"
   ]
  },
  {
   "cell_type": "markdown",
   "metadata": {},
   "source": [
    "El comando `fprintf` se usa también para mostrar en pantalla información sobre el valor asignado a determinadas variables, con la diferencia que éste comando permite dar formato a la visualización e introducir la misma en dentro un texto determinado. \n",
    "\n",
    "La asignación dentro el texto se inicia con `%` (si bien este símbolo es también usado para comentarios en el código, aquí su uso es diferente).  \n",
    "\n",
    "Dentro un texto se necesitan introducir tantos signos `%` como valores de variables se quieran mostrar seguidos por un carácter que representa el tipo de valor a visualizar:\n",
    "\n",
    "- `%s` Imprime texto\n",
    "- `%c` Imprime un único carácter.\n",
    "- `%d` Imprime un número (completo).\n",
    "- `%f` Imprime un número con un número determinado de decimales (ejemplo `%.2f` imprime dos decimales)\n",
    "\n",
    "Otras opciones de formato son:\n",
    "\n",
    "- `\\n` Imprime una nueva línea (Enter)\n",
    "- `\\t` Imprime una tabulación (Tab)\n",
    "- `\\\\` Imprime \\\\.\n",
    "- `%%` Imprime % (Un sólo % sirve para comentarios).\n",
    "\n",
    "Algunos ejemplos:"
   ]
  },
  {
   "cell_type": "code",
   "execution_count": 17,
   "metadata": {},
   "outputs": [
    {
     "name": "stdout",
     "output_type": "stream",
     "text": [
      "Mi nombre es Mauricio Tejada\n",
      "Mi oficina es la 211 y mi email es matejada@uahurtado.cl\n"
     ]
    }
   ],
   "source": [
    "prof_name = 'Mauricio Tejada';\n",
    "prof_of = 211;\n",
    "prof_email = 'matejada@uahurtado.cl';\n",
    "\n",
    "fprintf('Mi nombre es %s\\n', prof_name); \n",
    "fprintf('Mi oficina es la %d y mi email es %s\\n', prof_of, prof_email);  % Note que % en este contexto no es nota. "
   ]
  },
  {
   "cell_type": "markdown",
   "metadata": {},
   "source": [
    "Ahora usando decimales:"
   ]
  },
  {
   "cell_type": "code",
   "execution_count": 18,
   "metadata": {},
   "outputs": [
    {
     "name": "stdout",
     "output_type": "stream",
     "text": [
      "Numero completo 3.624500e+00\n",
      "Numero con 2 decimales 3.62\n",
      "Numero con 3 decimales 3.624\n",
      "Numero sin decimales (entero) 4\n"
     ]
    }
   ],
   "source": [
    "N = 3.6245;\n",
    "fprintf('Numero completo %d\\n', N); \n",
    "fprintf('Numero con 2 decimales %.2f\\n', N); \n",
    "fprintf('Numero con 3 decimales %.3f\\n', N); \n",
    "fprintf('Numero sin decimales (entero) %.0f\\n', N); "
   ]
  },
  {
   "cell_type": "markdown",
   "metadata": {},
   "source": [
    "### 2.5 Elementos Básicos para Graficar\n",
    "\n",
    "Matlab es una herramienta poderosa y útil para presentar resultados de forma gráfica.  \n",
    "\n",
    "Los elementos básicos para graficar y dar formato a un gráfico son:\n",
    "\n",
    "- `figure`: Abre una ventana de gráficos.\n",
    "- `plot`: Graficar.\n",
    "- `title`: Título del gráfico.\n",
    "- `xlabel`: Etiqueta del eje x.\n",
    "- `ylabel`: Etiqueta del eje y.\n",
    "- `legend`: Manejo y definición de la leyenda del gráfico.\n",
    "- `grid`: Cuadrícula.\n",
    "\n",
    "Nota: Sólo presentamos algunas características. Ver la documentación para mayor detalles.\n",
    "\n",
    "Ejemplo 1:"
   ]
  },
  {
   "cell_type": "code",
   "execution_count": 19,
   "metadata": {},
   "outputs": [
    {
     "data": {
      "image/png": "[encoded data removed]",
      "text/plain": [
       "<IPython.core.display.Image object>"
      ]
     },
     "metadata": {},
     "output_type": "display_data"
    }
   ],
   "source": [
    "x = 0:pi/100:2*pi;\n",
    "y = sin(x);\n",
    "\n",
    "% figure;\n",
    "plot(x,y);\n",
    "title('Función Seno');\n",
    "xlabel('x');\n",
    "ylabel('f(x)');"
   ]
  },
  {
   "cell_type": "markdown",
   "metadata": {},
   "source": [
    "Ejemplo 2:"
   ]
  },
  {
   "cell_type": "code",
   "execution_count": 20,
   "metadata": {},
   "outputs": [
    {
     "data": {
      "image/png": "[encoded data removed]",
      "text/plain": [
       "<IPython.core.display.Image object>"
      ]
     },
     "metadata": {},
     "output_type": "display_data"
    }
   ],
   "source": [
    "x = linspace(-2*pi,2*pi);\n",
    "y1 = sin(x);\n",
    "y2 = cos(x);\n",
    "\n",
    "% figure;\n",
    "plot(x,y1,x,y2)\n",
    "title('Funciones Seno y Coseno');\n",
    "xlabel('x');\n",
    "ylabel('f(x)');\n",
    "legend('sin(x)','cos(x)')"
   ]
  },
  {
   "cell_type": "markdown",
   "metadata": {},
   "source": [
    "Existen muchas opciones para personalizar un gráfico:\n",
    "\n",
    "Estilos:\n",
    "- `-` Línea sólida (por defecto)\n",
    "- `--` Línea cortada.\n",
    "- `:` Línea punteada.\n",
    "- `-.` Línea cortada-puntada.\n",
    "\n",
    "Colores:\n",
    "- `y` Amarillo.\n",
    "- `m` Magenta.\n",
    "- `r` Rojo.\n",
    "- `g` Verde.\n",
    "- `b` Azul.\n",
    "- `w` Blanco.\n",
    "- `k` Negro.\n",
    "\n",
    "Marcadores principales:\n",
    "- `o` Circulo\n",
    "- `+` Signo de suma.\n",
    "- `*` Asterisco.\n",
    "- `.` Punto.\n",
    "- `x` Cruz.\n",
    "- `s` Cuadrado.\n",
    "- `d` Diamante.\n",
    "\n",
    "Ejemplo 3:"
   ]
  },
  {
   "cell_type": "code",
   "execution_count": 21,
   "metadata": {
    "scrolled": true
   },
   "outputs": [
    {
     "data": {
      "image/png": "[encoded data removed]",
      "text/plain": [
       "<IPython.core.display.Image object>"
      ]
     },
     "metadata": {},
     "output_type": "display_data"
    }
   ],
   "source": [
    "x = linspace(-2*pi,2*pi);\n",
    "y1 = sin(x);\n",
    "y2 = cos(x);\n",
    "\n",
    "% figure;\n",
    "plot(x,y1,'-ro',x,y2,'-.b')\n",
    "title('Funciones Seno y Coseno');\n",
    "xlabel('x');\n",
    "ylabel('f(x)');\n",
    "legend('sin(x)','cos(x)')\n",
    "grid('on');"
   ]
  }
 ],
 "metadata": {
  "kernelspec": {
   "display_name": "Matlab",
   "language": "matlab",
   "name": "matlab"
  },
  "language_info": {
   "file_extension": ".m",
   "help_links": [
    {
     "text": "MetaKernel Magics",
     "url": "https://github.com/calysto/metakernel/blob/master/metakernel/magics/README.md"
    }
   ],
   "mimetype": "text/x-octave",
   "name": "matlab",
   "version": "0.9.4"
  }
 },
 "nbformat": 4,
 "nbformat_minor": 1
}
